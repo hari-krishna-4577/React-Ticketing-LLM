{
 "cells": [
  {
   "cell_type": "code",
   "execution_count": 1,
   "id": "2e977c32-acb8-4ff6-8248-8f408a65eed0",
   "metadata": {},
   "outputs": [],
   "source": [
    "import pandas as pd\n",
    "import numpy as np\n",
    "import re\n",
    "from sklearn.feature_extraction.text import TfidfVectorizer\n",
    "from sklearn.preprocessing import LabelEncoder\n",
    "from sklearn.model_selection import train_test_split\n",
    "from sklearn.ensemble import RandomForestClassifier\n",
    "from sklearn.metrics import classification_report, accuracy_score\n",
    "from sklearn.cluster import KMeans"
   ]
  },
  {
   "cell_type": "code",
   "execution_count": 2,
   "id": "b9bcc311-543d-49ef-9442-dec6df11dc8a",
   "metadata": {},
   "outputs": [],
   "source": [
    "# Load data\n",
    "df = pd.read_csv('Tickets_data.csv')"
   ]
  },
  {
   "cell_type": "code",
   "execution_count": 3,
   "id": "73c1dba3-0a28-4cee-8f12-4081f7791540",
   "metadata": {},
   "outputs": [
    {
     "data": {
      "text/html": [
       "<div>\n",
       "<style scoped>\n",
       "    .dataframe tbody tr th:only-of-type {\n",
       "        vertical-align: middle;\n",
       "    }\n",
       "\n",
       "    .dataframe tbody tr th {\n",
       "        vertical-align: top;\n",
       "    }\n",
       "\n",
       "    .dataframe thead th {\n",
       "        text-align: right;\n",
       "    }\n",
       "</style>\n",
       "<table border=\"1\" class=\"dataframe\">\n",
       "  <thead>\n",
       "    <tr style=\"text-align: right;\">\n",
       "      <th></th>\n",
       "      <th>Summary</th>\n",
       "      <th>Issue key</th>\n",
       "      <th>Issue id</th>\n",
       "      <th>Issue Type</th>\n",
       "      <th>Status</th>\n",
       "      <th>Project key</th>\n",
       "      <th>Project name</th>\n",
       "      <th>Project type</th>\n",
       "      <th>Project lead</th>\n",
       "      <th>Project description</th>\n",
       "      <th>...</th>\n",
       "      <th>Comment.17</th>\n",
       "      <th>Comment.18</th>\n",
       "      <th>Comment.19</th>\n",
       "      <th>Comment.20</th>\n",
       "      <th>Comment.21</th>\n",
       "      <th>Comment.22</th>\n",
       "      <th>Comment.23</th>\n",
       "      <th>Comment.24</th>\n",
       "      <th>Comment.25</th>\n",
       "      <th>Comment.26</th>\n",
       "    </tr>\n",
       "  </thead>\n",
       "  <tbody>\n",
       "    <tr>\n",
       "      <th>0</th>\n",
       "      <td>NPE during test execution on IntelliJ 2016.3 W...</td>\n",
       "      <td>CLOV-1985</td>\n",
       "      <td>660317</td>\n",
       "      <td>Bug</td>\n",
       "      <td>Closed</td>\n",
       "      <td>CLOV</td>\n",
       "      <td>Clover</td>\n",
       "      <td>software</td>\n",
       "      <td>mparfianowicz</td>\n",
       "      <td>This is a public issue tracker for Atlassian C...</td>\n",
       "      <td>...</td>\n",
       "      <td>NaN</td>\n",
       "      <td>NaN</td>\n",
       "      <td>NaN</td>\n",
       "      <td>NaN</td>\n",
       "      <td>NaN</td>\n",
       "      <td>NaN</td>\n",
       "      <td>NaN</td>\n",
       "      <td>NaN</td>\n",
       "      <td>NaN</td>\n",
       "      <td>NaN</td>\n",
       "    </tr>\n",
       "    <tr>\n",
       "      <th>1</th>\n",
       "      <td>Instrumentation error for generic array constr...</td>\n",
       "      <td>CLOV-1984</td>\n",
       "      <td>659733</td>\n",
       "      <td>Bug</td>\n",
       "      <td>Closed</td>\n",
       "      <td>CLOV</td>\n",
       "      <td>Clover</td>\n",
       "      <td>software</td>\n",
       "      <td>mparfianowicz</td>\n",
       "      <td>This is a public issue tracker for Atlassian C...</td>\n",
       "      <td>...</td>\n",
       "      <td>NaN</td>\n",
       "      <td>NaN</td>\n",
       "      <td>NaN</td>\n",
       "      <td>NaN</td>\n",
       "      <td>NaN</td>\n",
       "      <td>NaN</td>\n",
       "      <td>NaN</td>\n",
       "      <td>NaN</td>\n",
       "      <td>NaN</td>\n",
       "      <td>NaN</td>\n",
       "    </tr>\n",
       "  </tbody>\n",
       "</table>\n",
       "<p>2 rows × 269 columns</p>\n",
       "</div>"
      ],
      "text/plain": [
       "                                             Summary  Issue key  Issue id  \\\n",
       "0  NPE during test execution on IntelliJ 2016.3 W...  CLOV-1985    660317   \n",
       "1  Instrumentation error for generic array constr...  CLOV-1984    659733   \n",
       "\n",
       "  Issue Type  Status Project key Project name Project type   Project lead  \\\n",
       "0        Bug  Closed        CLOV       Clover     software  mparfianowicz   \n",
       "1        Bug  Closed        CLOV       Clover     software  mparfianowicz   \n",
       "\n",
       "                                 Project description  ... Comment.17  \\\n",
       "0  This is a public issue tracker for Atlassian C...  ...        NaN   \n",
       "1  This is a public issue tracker for Atlassian C...  ...        NaN   \n",
       "\n",
       "  Comment.18 Comment.19 Comment.20 Comment.21 Comment.22 Comment.23  \\\n",
       "0        NaN        NaN        NaN        NaN        NaN        NaN   \n",
       "1        NaN        NaN        NaN        NaN        NaN        NaN   \n",
       "\n",
       "  Comment.24 Comment.25 Comment.26  \n",
       "0        NaN        NaN        NaN  \n",
       "1        NaN        NaN        NaN  \n",
       "\n",
       "[2 rows x 269 columns]"
      ]
     },
     "execution_count": 3,
     "metadata": {},
     "output_type": "execute_result"
    }
   ],
   "source": [
    "df.head(2)"
   ]
  },
  {
   "cell_type": "code",
   "execution_count": 4,
   "id": "8114c79e-8159-4f12-bb51-a5430e2f9ce3",
   "metadata": {},
   "outputs": [
    {
     "name": "stdout",
     "output_type": "stream",
     "text": [
      "<class 'pandas.core.frame.DataFrame'>\n",
      "RangeIndex: 531 entries, 0 to 530\n",
      "Columns: 269 entries, Summary to Comment.26\n",
      "dtypes: bool(1), float64(125), int64(10), object(133)\n",
      "memory usage: 1.1+ MB\n"
     ]
    }
   ],
   "source": [
    "df.info()"
   ]
  },
  {
   "cell_type": "code",
   "execution_count": 5,
   "id": "ef91d036-a914-473e-bc97-86e66eb4e0bf",
   "metadata": {},
   "outputs": [
    {
     "data": {
      "text/plain": [
       "array(['Bug'], dtype=object)"
      ]
     },
     "execution_count": 5,
     "metadata": {},
     "output_type": "execute_result"
    }
   ],
   "source": [
    "df['Issue Type'].unique()"
   ]
  },
  {
   "cell_type": "code",
   "execution_count": 6,
   "id": "81b60343-b630-477d-8740-fa348c7e1cc3",
   "metadata": {},
   "outputs": [
    {
     "data": {
      "text/plain": [
       "array([\"Won't Fix\", 'Tracked Elsewhere', 'Handled by Support', 'Fixed',\n",
       "       'Invalid', 'Obsolete', 'Cannot Reproduce', 'Duplicate',\n",
       "       'Not a bug', 'Answered', 'Timed out', 'Resolved Locally',\n",
       "       'Unsolved Mysteries'], dtype=object)"
      ]
     },
     "execution_count": 6,
     "metadata": {},
     "output_type": "execute_result"
    }
   ],
   "source": [
    "df['Resolution'].unique()"
   ]
  },
  {
   "cell_type": "code",
   "execution_count": 7,
   "id": "bcbaf836-5fb4-4626-87b8-cfe686cc24c7",
   "metadata": {},
   "outputs": [
    {
     "data": {
      "text/plain": [
       "array(['CIJ Plugin', 'Instrumentation', nan, 'CEP Plugin', 'Integrations',\n",
       "       'Groovy', 'Build system', 'Maven plugin', 'Ant Tasks',\n",
       "       'Grails Plugin', 'Documentation', 'Database', 'Reporting',\n",
       "       'Test Optimization'], dtype=object)"
      ]
     },
     "execution_count": 7,
     "metadata": {},
     "output_type": "execute_result"
    }
   ],
   "source": [
    "df['Component/s'].unique()"
   ]
  },
  {
   "cell_type": "code",
   "execution_count": 8,
   "id": "b6234ce9-45ec-4941-8a63-7e360d4348b2",
   "metadata": {},
   "outputs": [],
   "source": [
    "df = df.dropna(subset=['Summary', 'Resolution', 'Component/s'])"
   ]
  },
  {
   "cell_type": "code",
   "execution_count": 9,
   "id": "4b5925aa-06d9-4390-afbe-c255ed1883f2",
   "metadata": {},
   "outputs": [
    {
     "data": {
      "text/html": [
       "<div>\n",
       "<style scoped>\n",
       "    .dataframe tbody tr th:only-of-type {\n",
       "        vertical-align: middle;\n",
       "    }\n",
       "\n",
       "    .dataframe tbody tr th {\n",
       "        vertical-align: top;\n",
       "    }\n",
       "\n",
       "    .dataframe thead th {\n",
       "        text-align: right;\n",
       "    }\n",
       "</style>\n",
       "<table border=\"1\" class=\"dataframe\">\n",
       "  <thead>\n",
       "    <tr style=\"text-align: right;\">\n",
       "      <th></th>\n",
       "      <th>Summary</th>\n",
       "      <th>Issue key</th>\n",
       "      <th>Issue id</th>\n",
       "      <th>Issue Type</th>\n",
       "      <th>Status</th>\n",
       "      <th>Project key</th>\n",
       "      <th>Project name</th>\n",
       "      <th>Project type</th>\n",
       "      <th>Project lead</th>\n",
       "      <th>Project description</th>\n",
       "      <th>...</th>\n",
       "      <th>Comment.17</th>\n",
       "      <th>Comment.18</th>\n",
       "      <th>Comment.19</th>\n",
       "      <th>Comment.20</th>\n",
       "      <th>Comment.21</th>\n",
       "      <th>Comment.22</th>\n",
       "      <th>Comment.23</th>\n",
       "      <th>Comment.24</th>\n",
       "      <th>Comment.25</th>\n",
       "      <th>Comment.26</th>\n",
       "    </tr>\n",
       "  </thead>\n",
       "  <tbody>\n",
       "    <tr>\n",
       "      <th>0</th>\n",
       "      <td>NPE during test execution on IntelliJ 2016.3 W...</td>\n",
       "      <td>CLOV-1985</td>\n",
       "      <td>660317</td>\n",
       "      <td>Bug</td>\n",
       "      <td>Closed</td>\n",
       "      <td>CLOV</td>\n",
       "      <td>Clover</td>\n",
       "      <td>software</td>\n",
       "      <td>mparfianowicz</td>\n",
       "      <td>This is a public issue tracker for Atlassian C...</td>\n",
       "      <td>...</td>\n",
       "      <td>NaN</td>\n",
       "      <td>NaN</td>\n",
       "      <td>NaN</td>\n",
       "      <td>NaN</td>\n",
       "      <td>NaN</td>\n",
       "      <td>NaN</td>\n",
       "      <td>NaN</td>\n",
       "      <td>NaN</td>\n",
       "      <td>NaN</td>\n",
       "      <td>NaN</td>\n",
       "    </tr>\n",
       "    <tr>\n",
       "      <th>1</th>\n",
       "      <td>Instrumentation error for generic array constr...</td>\n",
       "      <td>CLOV-1984</td>\n",
       "      <td>659733</td>\n",
       "      <td>Bug</td>\n",
       "      <td>Closed</td>\n",
       "      <td>CLOV</td>\n",
       "      <td>Clover</td>\n",
       "      <td>software</td>\n",
       "      <td>mparfianowicz</td>\n",
       "      <td>This is a public issue tracker for Atlassian C...</td>\n",
       "      <td>...</td>\n",
       "      <td>NaN</td>\n",
       "      <td>NaN</td>\n",
       "      <td>NaN</td>\n",
       "      <td>NaN</td>\n",
       "      <td>NaN</td>\n",
       "      <td>NaN</td>\n",
       "      <td>NaN</td>\n",
       "      <td>NaN</td>\n",
       "      <td>NaN</td>\n",
       "      <td>NaN</td>\n",
       "    </tr>\n",
       "  </tbody>\n",
       "</table>\n",
       "<p>2 rows × 269 columns</p>\n",
       "</div>"
      ],
      "text/plain": [
       "                                             Summary  Issue key  Issue id  \\\n",
       "0  NPE during test execution on IntelliJ 2016.3 W...  CLOV-1985    660317   \n",
       "1  Instrumentation error for generic array constr...  CLOV-1984    659733   \n",
       "\n",
       "  Issue Type  Status Project key Project name Project type   Project lead  \\\n",
       "0        Bug  Closed        CLOV       Clover     software  mparfianowicz   \n",
       "1        Bug  Closed        CLOV       Clover     software  mparfianowicz   \n",
       "\n",
       "                                 Project description  ... Comment.17  \\\n",
       "0  This is a public issue tracker for Atlassian C...  ...        NaN   \n",
       "1  This is a public issue tracker for Atlassian C...  ...        NaN   \n",
       "\n",
       "  Comment.18 Comment.19 Comment.20 Comment.21 Comment.22 Comment.23  \\\n",
       "0        NaN        NaN        NaN        NaN        NaN        NaN   \n",
       "1        NaN        NaN        NaN        NaN        NaN        NaN   \n",
       "\n",
       "  Comment.24 Comment.25 Comment.26  \n",
       "0        NaN        NaN        NaN  \n",
       "1        NaN        NaN        NaN  \n",
       "\n",
       "[2 rows x 269 columns]"
      ]
     },
     "execution_count": 9,
     "metadata": {},
     "output_type": "execute_result"
    }
   ],
   "source": [
    "df.head(2)"
   ]
  },
  {
   "cell_type": "markdown",
   "id": "69656cc8-7b2d-440e-9aa9-28b5c17f5724",
   "metadata": {},
   "source": [
    "* <b> Clean the Text Data </b>"
   ]
  },
  {
   "cell_type": "code",
   "execution_count": 10,
   "id": "47e838d5-bd4d-4298-9c8a-8c66ded327b4",
   "metadata": {},
   "outputs": [
    {
     "name": "stdout",
     "output_type": "stream",
     "text": [
      "\n",
      "Cleaned Summary Column:\n",
      " 0    npe during test execution on intellij 2016 3 w...\n",
      "1    instrumentation error for generic array constr...\n",
      "3    __clr4_1_2_test_name_sniffer is ambiguous comp...\n",
      "5      enabling clover working set throws an exception\n",
      "7    code metrics should take into account method c...\n",
      "Name: cleaned_summary, dtype: object\n"
     ]
    }
   ],
   "source": [
    "# Clean the 'Summary' column\n",
    "def clean_text(text):\n",
    "    text = re.sub(r'\\W+', ' ', text)  \n",
    "    text = text.lower().strip() \n",
    "    return text\n",
    "\n",
    "df['cleaned_summary'] = df['Summary'].apply(clean_text)\n",
    "\n",
    "# Display cleaned text\n",
    "print(\"\\nCleaned Summary Column:\\n\", df['cleaned_summary'].head())\n"
   ]
  },
  {
   "cell_type": "markdown",
   "id": "6209da4b-1e6b-4f85-a88b-60320051e8a8",
   "metadata": {},
   "source": [
    "*<b> Assign Ticket Levels Using Clustering</b>"
   ]
  },
  {
   "cell_type": "code",
   "execution_count": 11,
   "id": "d5442eb8-6818-4bac-8bd1-ecb9cb929886",
   "metadata": {},
   "outputs": [],
   "source": [
    "# Convert text into numerical features using TF-IDF\n",
    "\n",
    "vectorizer = TfidfVectorizer(max_features=500)\n",
    "text_features = vectorizer.fit_transform(df['cleaned_summary']).toarray()"
   ]
  },
  {
   "cell_type": "code",
   "execution_count": 24,
   "id": "205d4be0-d874-4b07-bfcd-981f3ac1a70c",
   "metadata": {},
   "outputs": [
    {
     "name": "stdout",
     "output_type": "stream",
     "text": [
      "Requirement already satisfied: threadpoolctl in c:\\users\\harry\\anaconda3\\lib\\site-packages (2.2.0)\n",
      "Collecting threadpoolctl\n",
      "  Downloading threadpoolctl-3.5.0-py3-none-any.whl.metadata (13 kB)\n",
      "Downloading threadpoolctl-3.5.0-py3-none-any.whl (18 kB)\n",
      "Installing collected packages: threadpoolctl\n",
      "  Attempting uninstall: threadpoolctl\n",
      "    Found existing installation: threadpoolctl 2.2.0\n",
      "    Uninstalling threadpoolctl-2.2.0:\n",
      "      Successfully uninstalled threadpoolctl-2.2.0\n",
      "Successfully installed threadpoolctl-3.5.0\n",
      "Note: you may need to restart the kernel to use updated packages.\n"
     ]
    }
   ],
   "source": [
    "pip install --upgrade threadpoolctl"
   ]
  },
  {
   "cell_type": "code",
   "execution_count": 19,
   "id": "779d9fef-e313-4cb8-ad2b-27ffeed91497",
   "metadata": {},
   "outputs": [],
   "source": [
    "os.environ['LOKY_MAX_CPU_COUNT'] = '4'  \n",
    "os.environ['OMP_NUM_THREADS'] = '2'    \n"
   ]
  },
  {
   "cell_type": "code",
   "execution_count": 27,
   "id": "d73941fe-de64-44e0-85a2-36687d432ae1",
   "metadata": {},
   "outputs": [
    {
     "name": "stderr",
     "output_type": "stream",
     "text": [
      "C:\\Users\\Harry\\anaconda3\\lib\\site-packages\\sklearn\\cluster\\_kmeans.py:1446: UserWarning: KMeans is known to have a memory leak on Windows with MKL, when there are less chunks than available threads. You can avoid it by setting the environment variable OMP_NUM_THREADS=2.\n",
      "  warnings.warn(\n"
     ]
    }
   ],
   "source": [
    "# Apply KMeans Clustering\n",
    "num_clusters = 3  \n",
    "kmeans = KMeans(n_clusters=num_clusters, random_state=42)\n",
    "df['ticket_level'] = kmeans.fit_predict(text_features)"
   ]
  },
  {
   "cell_type": "code",
   "execution_count": 28,
   "id": "cf01ea8a-c95f-4624-ab37-3a5af6172f12",
   "metadata": {},
   "outputs": [
    {
     "name": "stdout",
     "output_type": "stream",
     "text": [
      "\n",
      "Assigned Ticket Levels:\n",
      "                                              Summary ticket_level\n",
      "0  NPE during test execution on IntelliJ 2016.3 W...           L1\n",
      "1  Instrumentation error for generic array constr...           L1\n",
      "3  __CLR4_1_2_TEST_NAME_SNIFFER is ambiguous comp...           L1\n",
      "5    Enabling Clover working set throws an exception           L3\n",
      "7  Code metrics should take into account method c...           L1\n"
     ]
    }
   ],
   "source": [
    "cluster_to_level = {0: 'L1', 1: 'L2', 2: 'L3'}  \n",
    "df['ticket_level'] = df['ticket_level'].map(cluster_to_level)\n",
    "\n",
    "print(\"\\nAssigned Ticket Levels:\\n\", df[['Summary', 'ticket_level']].head())"
   ]
  },
  {
   "cell_type": "code",
   "execution_count": 32,
   "id": "ba05170a-38e1-40d5-8d6d-834c28825f61",
   "metadata": {},
   "outputs": [
    {
     "name": "stdout",
     "output_type": "stream",
     "text": [
      "\n",
      "Assigned Ticket Levels:\n",
      "                                               Summary ticket_level\n",
      "0   NPE during test execution on IntelliJ 2016.3 W...           L1\n",
      "1   Instrumentation error for generic array constr...           L1\n",
      "3   __CLR4_1_2_TEST_NAME_SNIFFER is ambiguous comp...           L1\n",
      "5     Enabling Clover working set throws an exception           L3\n",
      "7   Code metrics should take into account method c...           L1\n",
      "8   Exclusion Annotations setting works non-determ...           L1\n",
      "10                        Fix Ant 1.9.7 double quotes           L1\n",
      "11  Clover does not instrument all nodes in Groovy...           L1\n",
      "12                 SonarQube - resource was not found           L1\n",
      "13  Parser error on valid generic array constructo...           L1\n",
      "14  Allow usage of explicit \"this\" as first method...           L1\n",
      "17  \"Client missing parameter: __CLR4_0_4_TEST_NAM...           L2\n",
      "18  CloverCompilerAdapter should look for Javac.co...           L1\n",
      "19       Compilation error while instrumenting clover           L1\n",
      "20  '@CompileStatic annotation causes compilation ...           L1\n",
      "21  Old Clover logo visible in Eclipse Marketplace...           L1\n",
      "22  IntelliJ IDEA plugin with version 4.1.1 shows ...           L1\n",
      "24  Error in clover plugin during startup in IntelliJ           L1\n",
      "25  Opening existing cloverized project in intelli...           L3\n",
      "26                Random quit; no clue what happened.           L1\n"
     ]
    }
   ],
   "source": [
    "print(\"\\nAssigned Ticket Levels:\\n\", df[['Summary', 'ticket_level']].head(20))"
   ]
  },
  {
   "cell_type": "code",
   "execution_count": 33,
   "id": "f07c81ff-3cc0-4764-b712-ca08d9fe61e1",
   "metadata": {},
   "outputs": [
    {
     "data": {
      "text/plain": [
       "ticket_level\n",
       "L1    307\n",
       "L3     63\n",
       "L2     47\n",
       "Name: count, dtype: int64"
      ]
     },
     "execution_count": 33,
     "metadata": {},
     "output_type": "execute_result"
    }
   ],
   "source": [
    "df['ticket_level'].value_counts()"
   ]
  },
  {
   "cell_type": "markdown",
   "id": "cb67c199-4bff-4c02-b6d4-7cbf5e4a3c0f",
   "metadata": {},
   "source": [
    "* <b> Split Data for Model Training </b>"
   ]
  },
  {
   "cell_type": "code",
   "execution_count": 34,
   "id": "41536afa-a884-4253-bad5-f01e59fbd471",
   "metadata": {},
   "outputs": [
    {
     "name": "stdout",
     "output_type": "stream",
     "text": [
      "\n",
      "Training Data Size: (333, 500)\n",
      "Test Data Size: (84, 500)\n"
     ]
    }
   ],
   "source": [
    "# Define features (TF-IDF matrix) and target (ticket_level)\n",
    "\n",
    "X = text_features\n",
    "y = df['ticket_level']  \n",
    "\n",
    "label_encoder = LabelEncoder()\n",
    "y_encoded = label_encoder.fit_transform(y)\n",
    "\n",
    "X_train, X_test, y_train, y_test = train_test_split(X, y_encoded, test_size=0.2, random_state=42)\n",
    "\n",
    "print(f\"\\nTraining Data Size: {X_train.shape}\")\n",
    "print(f\"Test Data Size: {X_test.shape}\")\n"
   ]
  },
  {
   "cell_type": "markdown",
   "id": "33665e0e-6950-42a4-a3f9-be1d495b2f7b",
   "metadata": {},
   "source": [
    "* <b> Train a Classification Model </b>"
   ]
  },
  {
   "cell_type": "code",
   "execution_count": null,
   "id": "dd119061-6506-4574-b83a-e11fc21af978",
   "metadata": {},
   "outputs": [],
   "source": [
    "# Train the model\n",
    "model = RandomForestClassifier(random_state=42)\n",
    "model.fit(X_train, y_train)"
   ]
  },
  {
   "cell_type": "code",
   "execution_count": 36,
   "id": "39e8a018-1c58-4d1b-baae-dffd25d5b6ba",
   "metadata": {},
   "outputs": [],
   "source": [
    "y_pred = model.predict(X_test)"
   ]
  },
  {
   "cell_type": "code",
   "execution_count": 37,
   "id": "b5e7c165-59f1-49ef-a096-e74adf332660",
   "metadata": {},
   "outputs": [
    {
     "name": "stdout",
     "output_type": "stream",
     "text": [
      "\n",
      "Classification Report:\n",
      "              precision    recall  f1-score   support\n",
      "\n",
      "           0       0.91      1.00      0.96        64\n",
      "           1       1.00      1.00      1.00         8\n",
      "           2       1.00      0.50      0.67        12\n",
      "\n",
      "    accuracy                           0.93        84\n",
      "   macro avg       0.97      0.83      0.87        84\n",
      "weighted avg       0.93      0.93      0.92        84\n",
      "\n",
      "Model Accuracy: 92.86%\n"
     ]
    }
   ],
   "source": [
    "# Evaluate the model\n",
    "print(\"\\nClassification Report:\")\n",
    "print(classification_report(y_test, y_pred))\n",
    "\n",
    "# Overall accuracy\n",
    "accuracy = accuracy_score(y_test, y_pred)\n",
    "print(f\"Model Accuracy: {accuracy * 100:.2f}%\")"
   ]
  },
  {
   "cell_type": "markdown",
   "id": "075f68e6-ba30-40b6-abe4-607ebde5e2b7",
   "metadata": {},
   "source": [
    "* <b> Save the Model for Deployment </b>"
   ]
  },
  {
   "cell_type": "code",
   "execution_count": 39,
   "id": "d49b256e-f4ca-4a6a-b671-008ae0df33e4",
   "metadata": {},
   "outputs": [
    {
     "name": "stdout",
     "output_type": "stream",
     "text": [
      "Model saved as 'ticket_categorization_model.pkl'.\n",
      "TF-IDF vectorizer saved as 'tfidf_vectorizer.pkl'.\n",
      "Label encoder saved as 'label_encoder.pkl'.\n"
     ]
    }
   ],
   "source": [
    "import joblib\n",
    "\n",
    "# Save the trained model\n",
    "joblib.dump(model, 'ticket_categorization_model.pkl')\n",
    "print(\"Model saved as 'ticket_categorization_model.pkl'.\")\n",
    "\n",
    "# Save the TF-IDF vectorizer\n",
    "joblib.dump(vectorizer, 'tfidf_vectorizer.pkl')\n",
    "print(\"TF-IDF vectorizer saved as 'tfidf_vectorizer.pkl'.\")\n",
    "\n",
    "# Save the label encoder\n",
    "joblib.dump(label_encoder, 'label_encoder.pkl')\n",
    "print(\"Label encoder saved as 'label_encoder.pkl'.\")"
   ]
  },
  {
   "cell_type": "code",
   "execution_count": null,
   "id": "0fad3e96-1c35-4999-8bbe-31f7bdbe78a5",
   "metadata": {},
   "outputs": [],
   "source": []
  },
  {
   "cell_type": "code",
   "execution_count": 40,
   "id": "c5a4224d-ea87-4efe-b553-5bab8c68d3ce",
   "metadata": {},
   "outputs": [
    {
     "data": {
      "image/png": "[encoded data removed]",
      "text/plain": [
       "<Figure size 800x600 with 1 Axes>"
      ]
     },
     "metadata": {},
     "output_type": "display_data"
    }
   ],
   "source": [
    "import matplotlib.pyplot as plt\n",
    "import seaborn as sns\n",
    "from sklearn.decomposition import PCA\n",
    "\n",
    "# Reduce dimensionality for visualization (if using more than 2 features)\n",
    "pca = PCA(n_components=2)\n",
    "reduced_features = pca.fit_transform(text_features)\n",
    "\n",
    "# Plot clusters\n",
    "plt.figure(figsize=(8, 6))\n",
    "sns.scatterplot(x=reduced_features[:, 0], y=reduced_features[:, 1], hue=kmeans.labels_)\n",
    "plt.title(\"Cluster Visualization (PCA Reduced)\")\n",
    "plt.show()"
   ]
  },
  {
   "cell_type": "code",
   "execution_count": null,
   "id": "7815d92d-521b-4879-af00-2eeb10514179",
   "metadata": {},
   "outputs": [],
   "source": []
  }
 ],
 "metadata": {
  "kernelspec": {
   "display_name": "Python 3 (ipykernel)",
   "language": "python",
   "name": "python3"
  },
  "language_info": {
   "codemirror_mode": {
    "name": "ipython",
    "version": 3
   },
   "file_extension": ".py",
   "mimetype": "text/x-python",
   "name": "python",
   "nbconvert_exporter": "python",
   "pygments_lexer": "ipython3",
   "version": "3.9.19"
  }
 },
 "nbformat": 4,
 "nbformat_minor": 5
}
